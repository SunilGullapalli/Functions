{
 "cells": [
  {
   "cell_type": "code",
   "execution_count": 2,
   "id": "7f6dafda",
   "metadata": {},
   "outputs": [],
   "source": [
    "def even_odd(n:int):\n",
    "    if n%2==0:\n",
    "        s = 'even'\n",
    "    else:\n",
    "        s = 'odd'\n",
    "    return s\n"
   ]
  },
  {
   "cell_type": "code",
   "execution_count": 4,
   "id": "7549767d",
   "metadata": {},
   "outputs": [
    {
     "data": {
      "text/plain": [
       "'odd'"
      ]
     },
     "execution_count": 4,
     "metadata": {},
     "output_type": "execute_result"
    }
   ],
   "source": [
    "even_odd(5)"
   ]
  },
  {
   "cell_type": "code",
   "execution_count": 7,
   "id": "ccb221ee",
   "metadata": {},
   "outputs": [
    {
     "data": {
      "text/plain": [
       "'even'"
      ]
     },
     "execution_count": 7,
     "metadata": {},
     "output_type": "execute_result"
    }
   ],
   "source": [
    "a=even_odd(10)\n",
    "a"
   ]
  },
  {
   "cell_type": "markdown",
   "id": "f6587f80",
   "metadata": {},
   "source": [
    "# Generator Function"
   ]
  },
  {
   "cell_type": "code",
   "execution_count": 9,
   "id": "db303b25",
   "metadata": {},
   "outputs": [
    {
     "data": {
      "text/plain": [
       "range(1, 10)"
      ]
     },
     "execution_count": 9,
     "metadata": {},
     "output_type": "execute_result"
    }
   ],
   "source": [
    "range(1,10,1)"
   ]
  },
  {
   "cell_type": "code",
   "execution_count": 11,
   "id": "372a3f97",
   "metadata": {},
   "outputs": [
    {
     "data": {
      "text/plain": [
       "[1, 2, 3, 4, 5, 6, 7, 8, 9]"
      ]
     },
     "execution_count": 11,
     "metadata": {},
     "output_type": "execute_result"
    }
   ],
   "source": [
    "list(range(1,10,1))"
   ]
  },
  {
   "cell_type": "code",
   "execution_count": 15,
   "id": "69e4c01c",
   "metadata": {},
   "outputs": [
    {
     "name": "stdout",
     "output_type": "stream",
     "text": [
      "1\n",
      "2\n",
      "3\n",
      "4\n",
      "5\n",
      "6\n",
      "7\n",
      "8\n",
      "9\n"
     ]
    }
   ],
   "source": [
    "for i in range(1,10,1):\n",
    "    print(i)"
   ]
  },
  {
   "cell_type": "markdown",
   "id": "97a0aac0",
   "metadata": {},
   "source": [
    "Generator using square numbers"
   ]
  },
  {
   "cell_type": "code",
   "execution_count": 17,
   "id": "d0e6d3f0",
   "metadata": {},
   "outputs": [],
   "source": [
    "def square_seq(n):\n",
    "    for i in range(1,n+1,1):\n",
    "        yield i**2"
   ]
  },
  {
   "cell_type": "code",
   "execution_count": 18,
   "id": "7c87247d",
   "metadata": {},
   "outputs": [
    {
     "data": {
      "text/plain": [
       "<generator object square_seq at 0x00000206FED669E0>"
      ]
     },
     "execution_count": 18,
     "metadata": {},
     "output_type": "execute_result"
    }
   ],
   "source": [
    "square_seq(10)\n"
   ]
  },
  {
   "cell_type": "code",
   "execution_count": 20,
   "id": "4ee4545a",
   "metadata": {},
   "outputs": [
    {
     "data": {
      "text/plain": [
       "<generator object square_seq at 0x00000206FED66C10>"
      ]
     },
     "execution_count": 20,
     "metadata": {},
     "output_type": "execute_result"
    }
   ],
   "source": [
    "square_seq(20)"
   ]
  },
  {
   "cell_type": "code",
   "execution_count": 22,
   "id": "7f4d4fa0",
   "metadata": {},
   "outputs": [
    {
     "name": "stdout",
     "output_type": "stream",
     "text": [
      "1\n",
      "4\n",
      "9\n",
      "16\n",
      "25\n",
      "36\n",
      "49\n",
      "64\n",
      "81\n",
      "100\n",
      "121\n",
      "144\n",
      "169\n",
      "196\n",
      "225\n",
      "256\n",
      "289\n",
      "324\n",
      "361\n",
      "400\n"
     ]
    }
   ],
   "source": [
    "for i in square_seq(20):\n",
    "    print(i)"
   ]
  },
  {
   "cell_type": "code",
   "execution_count": 23,
   "id": "3464bcdf",
   "metadata": {},
   "outputs": [],
   "source": [
    "def square_seq1(n):\n",
    "    for i in range(1,n+1,1):\n",
    "        return i**2"
   ]
  },
  {
   "cell_type": "code",
   "execution_count": 25,
   "id": "d57e32e4",
   "metadata": {},
   "outputs": [
    {
     "data": {
      "text/plain": [
       "1"
      ]
     },
     "execution_count": 25,
     "metadata": {},
     "output_type": "execute_result"
    }
   ],
   "source": [
    "square_seq1(20)"
   ]
  },
  {
   "cell_type": "code",
   "execution_count": 27,
   "id": "502daa1d",
   "metadata": {},
   "outputs": [
    {
     "data": {
      "text/plain": [
       "[1, 2, 3, 4, 5, 6, 7, 8, 9, 10, 11, 12, 13, 14, 15, 16, 17, 18, 19, 20]"
      ]
     },
     "execution_count": 27,
     "metadata": {},
     "output_type": "execute_result"
    }
   ],
   "source": [
    "list(range(1,21,1))"
   ]
  },
  {
   "cell_type": "markdown",
   "id": "b6846995",
   "metadata": {},
   "source": [
    "# Fibonacci Series"
   ]
  },
  {
   "cell_type": "code",
   "execution_count": 29,
   "id": "c29230d1",
   "metadata": {},
   "outputs": [],
   "source": [
    "def fib_seq(n):\n",
    "    a, b = 0, 1\n",
    "    for i in range(n+1):\n",
    "        yield a\n",
    "        a, b = b, a+b"
   ]
  },
  {
   "cell_type": "code",
   "execution_count": 30,
   "id": "f7413099",
   "metadata": {},
   "outputs": [
    {
     "data": {
      "text/plain": [
       "<generator object fib_seq at 0x00000206FED8D190>"
      ]
     },
     "execution_count": 30,
     "metadata": {},
     "output_type": "execute_result"
    }
   ],
   "source": [
    "fib_seq(20)"
   ]
  },
  {
   "cell_type": "code",
   "execution_count": 32,
   "id": "e34bb245",
   "metadata": {},
   "outputs": [
    {
     "name": "stdout",
     "output_type": "stream",
     "text": [
      "0\n",
      "1\n",
      "1\n",
      "2\n",
      "3\n",
      "5\n",
      "8\n",
      "13\n",
      "21\n",
      "34\n",
      "55\n",
      "89\n",
      "144\n",
      "233\n",
      "377\n",
      "610\n",
      "987\n",
      "1597\n",
      "2584\n",
      "4181\n",
      "6765\n"
     ]
    }
   ],
   "source": [
    "for i in fib_seq(20):\n",
    "    print(i)"
   ]
  },
  {
   "cell_type": "code",
   "execution_count": 33,
   "id": "e16e9794",
   "metadata": {},
   "outputs": [],
   "source": [
    "fib = []\n",
    "for i in fib_seq(10):\n",
    "    fib.append(i)"
   ]
  },
  {
   "cell_type": "code",
   "execution_count": 35,
   "id": "4932714a",
   "metadata": {},
   "outputs": [
    {
     "data": {
      "text/plain": [
       "[0, 1, 1, 2, 3, 5, 8, 13, 21, 34, 55]"
      ]
     },
     "execution_count": 35,
     "metadata": {},
     "output_type": "execute_result"
    }
   ],
   "source": [
    "fib"
   ]
  },
  {
   "cell_type": "markdown",
   "id": "c7fa88f7",
   "metadata": {},
   "source": [
    "# Lambda or Anonymous Function"
   ]
  },
  {
   "cell_type": "code",
   "execution_count": 37,
   "id": "d814a9c4",
   "metadata": {},
   "outputs": [],
   "source": [
    "sqr = lambda n: n**2"
   ]
  },
  {
   "cell_type": "code",
   "execution_count": 39,
   "id": "447ffda7",
   "metadata": {},
   "outputs": [
    {
     "data": {
      "text/plain": [
       "25"
      ]
     },
     "execution_count": 39,
     "metadata": {},
     "output_type": "execute_result"
    }
   ],
   "source": [
    "sqr(5)"
   ]
  },
  {
   "cell_type": "code",
   "execution_count": 40,
   "id": "619500bc",
   "metadata": {},
   "outputs": [],
   "source": [
    "def square(n):\n",
    "    return n**2"
   ]
  },
  {
   "cell_type": "code",
   "execution_count": 42,
   "id": "ca7b1595",
   "metadata": {},
   "outputs": [
    {
     "data": {
      "text/plain": [
       "25"
      ]
     },
     "execution_count": 42,
     "metadata": {},
     "output_type": "execute_result"
    }
   ],
   "source": [
    "square(5)"
   ]
  },
  {
   "cell_type": "markdown",
   "id": "2e204e1e",
   "metadata": {},
   "source": [
    "# Even odd using lambda"
   ]
  },
  {
   "cell_type": "code",
   "execution_count": 43,
   "id": "a0c6203e",
   "metadata": {},
   "outputs": [],
   "source": [
    "even_odd1 = lambda n : 'even' if n%2==0 else 'odd'"
   ]
  },
  {
   "cell_type": "code",
   "execution_count": 45,
   "id": "7047d66c",
   "metadata": {},
   "outputs": [
    {
     "data": {
      "text/plain": [
       "'even'"
      ]
     },
     "execution_count": 45,
     "metadata": {},
     "output_type": "execute_result"
    }
   ],
   "source": [
    "even_odd1(6)"
   ]
  },
  {
   "cell_type": "markdown",
   "id": "2c993671",
   "metadata": {},
   "source": [
    "# Map Function"
   ]
  },
  {
   "cell_type": "code",
   "execution_count": 46,
   "id": "c1002e3b",
   "metadata": {},
   "outputs": [],
   "source": [
    "f = lambda x : x+1"
   ]
  },
  {
   "cell_type": "code",
   "execution_count": 48,
   "id": "63778d7d",
   "metadata": {},
   "outputs": [
    {
     "data": {
      "text/plain": [
       "3"
      ]
     },
     "execution_count": 48,
     "metadata": {},
     "output_type": "execute_result"
    }
   ],
   "source": [
    "f(2)"
   ]
  },
  {
   "cell_type": "code",
   "execution_count": 50,
   "id": "64a4e7ba",
   "metadata": {},
   "outputs": [
    {
     "data": {
      "text/plain": [
       "7"
      ]
     },
     "execution_count": 50,
     "metadata": {},
     "output_type": "execute_result"
    }
   ],
   "source": [
    "f(6)"
   ]
  },
  {
   "cell_type": "code",
   "execution_count": 52,
   "id": "bd3d54a8",
   "metadata": {},
   "outputs": [],
   "source": [
    "lst=[3,7,8,8,9,4]"
   ]
  },
  {
   "cell_type": "code",
   "execution_count": 53,
   "id": "28e8d873",
   "metadata": {},
   "outputs": [
    {
     "data": {
      "text/plain": [
       "<map at 0x206fed43d60>"
      ]
     },
     "execution_count": 53,
     "metadata": {},
     "output_type": "execute_result"
    }
   ],
   "source": [
    "map(f,lst)"
   ]
  },
  {
   "cell_type": "code",
   "execution_count": 56,
   "id": "616b4ad6",
   "metadata": {},
   "outputs": [
    {
     "data": {
      "text/plain": [
       "[4, 8, 9, 9, 10, 5]"
      ]
     },
     "execution_count": 56,
     "metadata": {},
     "output_type": "execute_result"
    }
   ],
   "source": [
    "list(map(f,lst))"
   ]
  },
  {
   "cell_type": "code",
   "execution_count": 58,
   "id": "de525bd1",
   "metadata": {},
   "outputs": [],
   "source": [
    "a=[]\n",
    "for i in map(f,lst):\n",
    "    a.append(i)"
   ]
  },
  {
   "cell_type": "code",
   "execution_count": 60,
   "id": "c131257b",
   "metadata": {},
   "outputs": [
    {
     "data": {
      "text/plain": [
       "[4, 8, 9, 9, 10, 5]"
      ]
     },
     "execution_count": 60,
     "metadata": {},
     "output_type": "execute_result"
    }
   ],
   "source": [
    "a"
   ]
  },
  {
   "cell_type": "markdown",
   "id": "5bf7e9bc",
   "metadata": {},
   "source": [
    "# Square of number using map"
   ]
  },
  {
   "cell_type": "code",
   "execution_count": 61,
   "id": "185982bf",
   "metadata": {},
   "outputs": [],
   "source": [
    "sqr=lambda n : n**2"
   ]
  },
  {
   "cell_type": "code",
   "execution_count": 63,
   "id": "21fe3c6e",
   "metadata": {},
   "outputs": [
    {
     "data": {
      "text/plain": [
       "9"
      ]
     },
     "execution_count": 63,
     "metadata": {},
     "output_type": "execute_result"
    }
   ],
   "source": [
    "sqr(3)"
   ]
  },
  {
   "cell_type": "code",
   "execution_count": 66,
   "id": "aaaf85bf",
   "metadata": {},
   "outputs": [
    {
     "data": {
      "text/plain": [
       "[3, 7, 8, 8, 9, 4]"
      ]
     },
     "execution_count": 66,
     "metadata": {},
     "output_type": "execute_result"
    }
   ],
   "source": [
    "lst"
   ]
  },
  {
   "cell_type": "code",
   "execution_count": 69,
   "id": "8b1f0a1d",
   "metadata": {},
   "outputs": [
    {
     "data": {
      "text/plain": [
       "<map at 0x206fee30610>"
      ]
     },
     "execution_count": 69,
     "metadata": {},
     "output_type": "execute_result"
    }
   ],
   "source": [
    "map(sqr,lst)"
   ]
  },
  {
   "cell_type": "code",
   "execution_count": 70,
   "id": "f1666583",
   "metadata": {},
   "outputs": [
    {
     "data": {
      "text/plain": [
       "[9, 49, 64, 64, 81, 16]"
      ]
     },
     "execution_count": 70,
     "metadata": {},
     "output_type": "execute_result"
    }
   ],
   "source": [
    "list(map(sqr,lst))"
   ]
  },
  {
   "cell_type": "code",
   "execution_count": null,
   "id": "2d0d82dc",
   "metadata": {},
   "outputs": [],
   "source": []
  }
 ],
 "metadata": {
  "kernelspec": {
   "display_name": "Python 3 (ipykernel)",
   "language": "python",
   "name": "python3"
  },
  "language_info": {
   "codemirror_mode": {
    "name": "ipython",
    "version": 3
   },
   "file_extension": ".py",
   "mimetype": "text/x-python",
   "name": "python",
   "nbconvert_exporter": "python",
   "pygments_lexer": "ipython3",
   "version": "3.9.7"
  }
 },
 "nbformat": 4,
 "nbformat_minor": 5
}
